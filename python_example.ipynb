{
 "cells": [
  {
   "cell_type": "code",
   "execution_count": 1,
   "id": "f07d5827",
   "metadata": {
    "scrolled": true
   },
   "outputs": [],
   "source": [
    "import julia, os\n",
    "julia.install()"
   ]
  },
  {
   "cell_type": "code",
   "execution_count": 2,
   "id": "b42c3bc8",
   "metadata": {},
   "outputs": [
    {
     "data": {
      "text/plain": [
       "['@', '@v#.#', '@stdlib', 'C:\\\\Users\\\\paulm\\\\Downloads\\\\InfoTaxis.jl\\\\src']"
      ]
     },
     "execution_count": 2,
     "metadata": {},
     "output_type": "execute_result"
    }
   ],
   "source": [
    "from julia import Main\n",
    "cwd = os.getcwd()\n",
    "src_path = os.path.join(cwd, \"src\")\n",
    "Main.eval(f'push!(LOAD_PATH, raw\"{src_path}\")')"
   ]
  },
  {
   "cell_type": "code",
   "execution_count": 3,
   "id": "8574c32e",
   "metadata": {},
   "outputs": [],
   "source": [
    "ExperimentSpace = os.path.join(src_path, \"ExperimentSpace.jl\")\n",
    "LoadData = os.path.join(src_path, \"LoadData.jl\")\n",
    "InferenceEngine = os.path.join(src_path, \"InferenceEngine.jl\")"
   ]
  },
  {
   "cell_type": "code",
   "execution_count": 4,
   "id": "8cad8374",
   "metadata": {},
   "outputs": [
    {
     "data": {
      "text/plain": [
       "<PyCall.jlwrap Main.InferenceEngine>"
      ]
     },
     "execution_count": 4,
     "metadata": {},
     "output_type": "execute_result"
    }
   ],
   "source": [
    "Main.eval(f'include(raw\"{ExperimentSpace}\")')\n",
    "Main.eval(f'include(raw\"{LoadData}\")')\n",
    "Main.eval(f'include(raw\"{InferenceEngine}\")')"
   ]
  },
  {
   "cell_type": "code",
   "execution_count": 5,
   "id": "4ade09b2",
   "metadata": {},
   "outputs": [
    {
     "ename": "RuntimeError",
     "evalue": "<PyCall.jlwrap (in a Julia function called from Python)\nJULIA: UndefVarError: `writedlm` not defined in `Main.ExperimentSpace`\nSuggestion: check for spelling errors or missing imports.\nHint: a global variable of this name may be made accessible by importing DelimitedFiles in the current active module Main\nStacktrace:\n [1] (::Main.ExperimentSpace.var\"#17#18\"{Vector{Float64}})(io::IOStream)\n   @ Main.ExperimentSpace C:\\Users\\paulm\\Downloads\\InfoTaxis.jl\\src\\ExperimentSpace.jl:499\n [2] open(::Main.ExperimentSpace.var\"#17#18\"{Vector{Float64}}, ::String, ::Vararg{String}; kwargs::@Kwargs{})\n   @ Base .\\io.jl:410\n [3] open(::Function, ::String, ::String)\n   @ Base .\\io.jl:407\n [4] get_update_next_pos(data_path::String, walls_path::String; num_mcmc_samples::Int64, num_mcmc_chains::Int64, allow_overlap::Bool, save_chains::Bool, exploring_start::Bool, num_exploring_start_steps::Int64, r_check::Float64, r_check_count::Int64, disable_log::Bool, turn_off_explore_threshold::Int64, seed_loc::Tuple{Int64, Int64}, mask_clearance::Int64, Δ::Int64)\n   @ Main.ExperimentSpace C:\\Users\\paulm\\Downloads\\InfoTaxis.jl\\src\\ExperimentSpace.jl:498\n [5] get_update_next_pos(data_path::String, walls_path::String)\n   @ Main.ExperimentSpace C:\\Users\\paulm\\Downloads\\InfoTaxis.jl\\src\\ExperimentSpace.jl:450\n [6] invokelatest(::Any, ::Any, ::Vararg{Any}; kwargs::@Kwargs{})\n   @ Base .\\essentials.jl:1055\n [7] invokelatest(::Any, ::Any, ::Vararg{Any})\n   @ Base .\\essentials.jl:1052\n [8] _pyjlwrap_call(f::Function, args_::Ptr{PyCall.PyObject_struct}, kw_::Ptr{PyCall.PyObject_struct})\n   @ PyCall C:\\Users\\paulm\\.julia\\packages\\PyCall\\1gn3u\\src\\callback.jl:28\n [9] pyjlwrap_call(self_::Ptr{PyCall.PyObject_struct}, args_::Ptr{PyCall.PyObject_struct}, kw_::Ptr{PyCall.PyObject_struct})\n   @ PyCall C:\\Users\\paulm\\.julia\\packages\\PyCall\\1gn3u\\src\\callback.jl:44>",
     "output_type": "error",
     "traceback": [
      "\u001b[1;31m---------------------------------------------------------------------------\u001b[0m",
      "\u001b[1;31mRuntimeError\u001b[0m                              Traceback (most recent call last)",
      "Input \u001b[1;32mIn [5]\u001b[0m, in \u001b[0;36m<cell line: 3>\u001b[1;34m()\u001b[0m\n\u001b[0;32m      1\u001b[0m Main\u001b[38;5;241m.\u001b[39meval(\u001b[38;5;124m'\u001b[39m\u001b[38;5;124musing .ExperimentSpace\u001b[39m\u001b[38;5;124m'\u001b[39m)\n\u001b[0;32m      2\u001b[0m Main\u001b[38;5;241m.\u001b[39meval(\u001b[38;5;124m'\u001b[39m\u001b[38;5;124musing .LoadData\u001b[39m\u001b[38;5;124m'\u001b[39m)\n\u001b[1;32m----> 3\u001b[0m \u001b[43mMain\u001b[49m\u001b[38;5;241;43m.\u001b[39;49m\u001b[43mget_update_next_pos\u001b[49m\u001b[43m(\u001b[49m\u001b[38;5;124;43m\"\u001b[39;49m\u001b[38;5;124;43mcsv/Collected_data.csv\u001b[39;49m\u001b[38;5;124;43m\"\u001b[39;49m\u001b[43m,\u001b[49m\u001b[43m \u001b[49m\u001b[38;5;124;43m\"\u001b[39;49m\u001b[38;5;124;43mcsv/walls.csv\u001b[39;49m\u001b[38;5;124;43m\"\u001b[39;49m\u001b[43m)\u001b[49m\n",
      "\u001b[1;31mRuntimeError\u001b[0m: <PyCall.jlwrap (in a Julia function called from Python)\nJULIA: UndefVarError: `writedlm` not defined in `Main.ExperimentSpace`\nSuggestion: check for spelling errors or missing imports.\nHint: a global variable of this name may be made accessible by importing DelimitedFiles in the current active module Main\nStacktrace:\n [1] (::Main.ExperimentSpace.var\"#17#18\"{Vector{Float64}})(io::IOStream)\n   @ Main.ExperimentSpace C:\\Users\\paulm\\Downloads\\InfoTaxis.jl\\src\\ExperimentSpace.jl:499\n [2] open(::Main.ExperimentSpace.var\"#17#18\"{Vector{Float64}}, ::String, ::Vararg{String}; kwargs::@Kwargs{})\n   @ Base .\\io.jl:410\n [3] open(::Function, ::String, ::String)\n   @ Base .\\io.jl:407\n [4] get_update_next_pos(data_path::String, walls_path::String; num_mcmc_samples::Int64, num_mcmc_chains::Int64, allow_overlap::Bool, save_chains::Bool, exploring_start::Bool, num_exploring_start_steps::Int64, r_check::Float64, r_check_count::Int64, disable_log::Bool, turn_off_explore_threshold::Int64, seed_loc::Tuple{Int64, Int64}, mask_clearance::Int64, Δ::Int64)\n   @ Main.ExperimentSpace C:\\Users\\paulm\\Downloads\\InfoTaxis.jl\\src\\ExperimentSpace.jl:498\n [5] get_update_next_pos(data_path::String, walls_path::String)\n   @ Main.ExperimentSpace C:\\Users\\paulm\\Downloads\\InfoTaxis.jl\\src\\ExperimentSpace.jl:450\n [6] invokelatest(::Any, ::Any, ::Vararg{Any}; kwargs::@Kwargs{})\n   @ Base .\\essentials.jl:1055\n [7] invokelatest(::Any, ::Any, ::Vararg{Any})\n   @ Base .\\essentials.jl:1052\n [8] _pyjlwrap_call(f::Function, args_::Ptr{PyCall.PyObject_struct}, kw_::Ptr{PyCall.PyObject_struct})\n   @ PyCall C:\\Users\\paulm\\.julia\\packages\\PyCall\\1gn3u\\src\\callback.jl:28\n [9] pyjlwrap_call(self_::Ptr{PyCall.PyObject_struct}, args_::Ptr{PyCall.PyObject_struct}, kw_::Ptr{PyCall.PyObject_struct})\n   @ PyCall C:\\Users\\paulm\\.julia\\packages\\PyCall\\1gn3u\\src\\callback.jl:44>"
     ]
    }
   ],
   "source": [
    "Main.eval('using .ExperimentSpace')\n",
    "Main.eval('using .LoadData')\n",
    "Main.get_update_next_pos(\"csv/Collected_data.csv\", \"csv/walls.csv\")"
   ]
  },
  {
   "cell_type": "code",
   "execution_count": null,
   "id": "d84033b9",
   "metadata": {},
   "outputs": [],
   "source": []
  }
 ],
 "metadata": {
  "kernelspec": {
   "display_name": "Python 3 (ipykernel)",
   "language": "python",
   "name": "python3"
  },
  "language_info": {
   "codemirror_mode": {
    "name": "ipython",
    "version": 3
   },
   "file_extension": ".py",
   "mimetype": "text/x-python",
   "name": "python",
   "nbconvert_exporter": "python",
   "pygments_lexer": "ipython3",
   "version": "3.9.12"
  }
 },
 "nbformat": 4,
 "nbformat_minor": 5
}
